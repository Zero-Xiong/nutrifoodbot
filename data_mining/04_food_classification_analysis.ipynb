{
 "cells": [
  {
   "cell_type": "markdown",
   "id": "e5be647a",
   "metadata": {},
   "source": [
    "# Food Classification Analysis\n"
   ]
  },
  {
   "cell_type": "markdown",
   "id": "f99734c7",
   "metadata": {},
   "source": [
    "## 1. Setup and Imports\n"
   ]
  },
  {
   "cell_type": "code",
   "execution_count": 1,
   "id": "8c32352c",
   "metadata": {},
   "outputs": [
    {
     "name": "stdout",
     "output_type": "stream",
     "text": [
      "Python version: 3.12.11 (main, Jun  3 2025, 15:41:47) [Clang 17.0.0 (clang-1700.0.13.3)]\n",
      "NumPy version: 1.26.4\n",
      "PyArrow version: 21.0.0\n",
      "Pandas version: 2.3.2\n",
      "Dask version: 2025.7.0\n",
      "Matplotlib version: 3.10.5\n",
      "Seaborn version: 0.13.2\n"
     ]
    }
   ],
   "source": [
    "# Standard library\n",
    "import os\n",
    "from typing import Any\n",
    "import shutil\n",
    "import sys\n",
    "\n",
    "# Third-party libraries\n",
    "import dask\n",
    "import dask.dataframe as dd\n",
    "from dask.diagnostics import ProgressBar\n",
    "import matplotlib.pyplot as plt\n",
    "import numpy as np\n",
    "import pandas as pd\n",
    "import pyarrow as pa\n",
    "import seaborn as sns\n",
    "\n",
    "# Local libraries\n",
    "from util import print_col\n",
    "\n",
    "# Plot styles\n",
    "plt.rcdefaults()\n",
    "plt.style.use(\"seaborn-v0_8-colorblind\")\n",
    "sns.set_palette(\"colorblind\")\n",
    "\n",
    "# Version info\n",
    "print(f\"Python version: {sys.version}\")\n",
    "print(f\"NumPy version: {np.__version__}\")\n",
    "print(f\"PyArrow version:\", pa.__version__)\n",
    "print(f\"Pandas version: {pd.__version__}\")\n",
    "print(f\"Dask version: {dask.__version__}\")\n",
    "print(f\"Matplotlib version: {plt.matplotlib.__version__}\")\n",
    "print(f\"Seaborn version: {sns.__version__}\")\n"
   ]
  },
  {
   "cell_type": "markdown",
   "id": "6d0f44c7",
   "metadata": {},
   "source": [
    "## 2. Data Loading\n"
   ]
  },
  {
   "cell_type": "markdown",
   "id": "e4110362",
   "metadata": {},
   "source": [
    "Load the dataset using Dask.\n"
   ]
  },
  {
   "cell_type": "code",
   "execution_count": 2,
   "id": "ced8c187",
   "metadata": {},
   "outputs": [],
   "source": [
    "df = dd.read_parquet(\"../eda/food.parquet\", engine=\"pyarrow\", dtype_backend=\"pyarrow\")\n"
   ]
  },
  {
   "cell_type": "markdown",
   "id": "ea4555a1",
   "metadata": {},
   "source": [
    "Based on our EDA findings, the ingredients column is very large; therefore, we will drop it in this full data analysis.\n"
   ]
  },
  {
   "cell_type": "code",
   "execution_count": 3,
   "id": "d3ae443c",
   "metadata": {},
   "outputs": [],
   "source": [
    "df = df.drop(columns=\"ingredients\")\n"
   ]
  },
  {
   "cell_type": "markdown",
   "id": "fc8607c9",
   "metadata": {},
   "source": [
    "Print the dataset shape.\n"
   ]
  },
  {
   "cell_type": "code",
   "execution_count": 4,
   "id": "a3861ad6",
   "metadata": {},
   "outputs": [
    {
     "name": "stdout",
     "output_type": "stream",
     "text": [
      "Dataset shape: (3919113, 109)\n",
      "Total cells: 427,183,317\n"
     ]
    }
   ],
   "source": [
    "df_shape = df.shape[0].compute(), df.shape[1]\n",
    "print(f\"Dataset shape: {df_shape}\")\n",
    "print(f\"Total cells: {df_shape[0] * df_shape[1]:,}\")\n"
   ]
  },
  {
   "cell_type": "markdown",
   "id": "689e1ce3",
   "metadata": {},
   "source": [
    "Load the `data/column_analysis` dataset.\n"
   ]
  },
  {
   "cell_type": "code",
   "execution_count": 5,
   "id": "c79e5a26",
   "metadata": {},
   "outputs": [
    {
     "name": "stdout",
     "output_type": "stream",
     "text": [
      "Dataset shape: (109, 6)\n"
     ]
    }
   ],
   "source": [
    "column_analysis_df = pd.read_csv(\"data/column_analysis.csv\")\n",
    "print(f\"Dataset shape: {column_analysis_df.shape}\")\n"
   ]
  },
  {
   "cell_type": "markdown",
   "id": "1bdb2917",
   "metadata": {},
   "source": [
    "Print the columns from `identifiers` category.\n"
   ]
  },
  {
   "cell_type": "code",
   "execution_count": 6,
   "id": "c25890fc",
   "metadata": {},
   "outputs": [
    {
     "name": "stdout",
     "output_type": "stream",
     "text": [
      "Category: \u001b[94midentifiers\u001b[0m\n",
      "\n",
      "  1. code                                     | 0000101209159\n",
      "  2. emb_codes_tags                           | []\n",
      "  3. emb_codes                                | nan\n",
      "  4. generic_name                             | []\n",
      "  5. images                                   | [{'key': 'front_fr', 'imgid': 1, 'rev': 4, 'sizes': {'100': {'h': 100, 'w': 75},...\n",
      "  6. link                                     | nan\n",
      "  7. max_imgid                                | 3\n",
      "  8. product_name                             | [{'lang': 'main', 'text': 'Véritable pâte à tartiner noisettes chocolat noir'}, ...\n"
     ]
    }
   ],
   "source": [
    "print(f\"Category: \\033[94midentifiers\\033[0m\\n\")\n",
    "for i, row in enumerate(column_analysis_df[column_analysis_df[\"category\"] == \"identifiers\"].itertuples(index=False), start=1):\n",
    "    print_col(i, row.column_name, sample=row.sample)\n"
   ]
  },
  {
   "cell_type": "markdown",
   "id": "dc99e4b9",
   "metadata": {},
   "source": [
    "Print the columns from `categories` category.\n"
   ]
  },
  {
   "cell_type": "code",
   "execution_count": 7,
   "id": "969545e2",
   "metadata": {},
   "outputs": [
    {
     "name": "stdout",
     "output_type": "stream",
     "text": [
      "Category: \u001b[94mcategories\u001b[0m\n",
      "\n",
      "  1. categories                               | Petit-déjeuners,Produits à tartiner,Produits à tartiner sucrés,Pâtes à tartiner,...\n",
      "  2. categories_tags                          | ['en:breakfasts', 'en:spreads', 'en:sweet-spreads', 'fr:pates-a-tartiner', 'en:h...\n",
      "  3. categories_properties                    | {'ciqual_food_code': 31032, 'agribalyse_food_code': 31032, 'agribalyse_proxy_foo...\n",
      "  4. ciqual_food_name_tags                    | ['chocolate-spread-with-hazelnuts']\n",
      "  5. compared_to_category                     | en:cocoa-and-hazelnuts-spreads\n",
      "  6. food_groups_tags                         | ['en:sugary-snacks', 'en:sweets']\n"
     ]
    }
   ],
   "source": [
    "print(f\"Category: \\033[94mcategories\\033[0m\\n\")\n",
    "for i, row in enumerate(column_analysis_df[column_analysis_df[\"category\"] == \"categories\"].itertuples(index=False), start=1):\n",
    "    print_col(i, row.column_name, sample=row.sample)\n"
   ]
  },
  {
   "cell_type": "markdown",
   "id": "bded1cd5",
   "metadata": {},
   "source": [
    "## 3. Category Data Extraction\n"
   ]
  },
  {
   "cell_type": "markdown",
   "id": "e9ad8fdd",
   "metadata": {},
   "source": [
    "Extract product categories and save into `data/category_extract`.\n"
   ]
  },
  {
   "cell_type": "code",
   "execution_count": 8,
   "id": "956d7939",
   "metadata": {},
   "outputs": [
    {
     "name": "stdout",
     "output_type": "stream",
     "text": [
      "[########################################] | 100% Completed | 203.45 s\n"
     ]
    }
   ],
   "source": [
    "def get_main_product_info(code: str, product_infos: list[dict[str, str]]) -> dict[str, str]:\n",
    "    for product_info in product_infos:\n",
    "        if product_info[\"lang\"] == \"main\":\n",
    "            return product_info\n",
    "    if len(product_infos) > 0:\n",
    "        return product_infos[0]\n",
    "    raise Exception(f\"Error parsing product, code: {code} - {product_infos}\")\n",
    "\n",
    "def get_image_metadata(images: Any) -> tuple[str | None, str | None]:\n",
    "    \"\"\"Return the primary image key and revision if available.\"\"\"\n",
    "    if images is None or images is pd.NA:\n",
    "        return None, None\n",
    "\n",
    "    def to_native(value: Any) -> Any:\n",
    "        for attr in (\"as_py\", \"to_pylist\", \"to_pydict\"):\n",
    "            method = getattr(value, attr, None)\n",
    "            if callable(method):\n",
    "                try:\n",
    "                    return method()\n",
    "                except TypeError:\n",
    "                    continue\n",
    "        return value\n",
    "\n",
    "    images_native = to_native(images)\n",
    "\n",
    "    if isinstance(images_native, dict):\n",
    "        candidates = images_native.values()\n",
    "    elif isinstance(images_native, list):\n",
    "        candidates = images_native\n",
    "    else:\n",
    "        return None, None\n",
    "\n",
    "    for candidate in candidates:\n",
    "        candidate_dict = to_native(candidate)\n",
    "        if not isinstance(candidate_dict, dict):\n",
    "            continue\n",
    "        image_key = (\n",
    "            candidate_dict.get(\"key\")\n",
    "            or candidate_dict.get(\"name\")\n",
    "            or candidate_dict.get(\"id\")\n",
    "            or candidate_dict.get(\"image\")\n",
    "        )\n",
    "        image_rev = candidate_dict.get(\"rev\")\n",
    "        if image_key is None or image_rev is None:\n",
    "            continue\n",
    "        image_key_str = str(image_key)\n",
    "        if image_key_str.startswith(\"front_\"):\n",
    "            return image_key_str, str(image_rev)\n",
    "\n",
    "    return None, None\n",
    "\n",
    "\n",
    "def extract_product_categories(df: pd.DataFrame) -> pd.DataFrame:\n",
    "    \"\"\"Collect normalized product metadata for category analysis.\"\"\"\n",
    "    records = []\n",
    "    for code, product_infos, categories, images in zip(\n",
    "        df[\"code\"],\n",
    "        df[\"product_name\"],\n",
    "        df[\"categories\"],\n",
    "        df[\"images\"],\n",
    "    ):\n",
    "        if len(product_infos) == 0:\n",
    "            continue\n",
    "        if categories is pd.NA:\n",
    "            continue\n",
    "        image_key, image_rev = get_image_metadata(images)\n",
    "        if image_key is None or image_rev is None:\n",
    "            continue\n",
    "        product_info = get_main_product_info(code, product_infos)\n",
    "        records.append({\n",
    "            \"code\": code,\n",
    "            \"product_lang\": product_info[\"lang\"],\n",
    "            \"product_name\": product_info[\"text\"],\n",
    "            \"image_key\": image_key,\n",
    "            \"image_rev\": image_rev,\n",
    "            \"categories\": categories,\n",
    "        })\n",
    "    return pd.DataFrame(records)\n",
    "\n",
    "\n",
    "parts = df[[\"code\", \"product_name\", \"categories\", \"images\"]].map_partitions(\n",
    "    extract_product_categories,\n",
    "    meta=pd.DataFrame({\n",
    "        \"code\": pd.Series(dtype=\"str\"),\n",
    "        \"product_lang\": pd.Series(dtype=\"str\"),\n",
    "        \"product_name\": pd.Series(dtype=\"str\"),\n",
    "        \"image_key\": pd.Series(dtype=\"str\"),\n",
    "        \"image_rev\": pd.Series(dtype=\"str\"),\n",
    "        \"categories\": pd.Series(dtype=\"str\"),\n",
    "    }),\n",
    ")\n",
    "\n",
    "with ProgressBar():\n",
    "    parts.to_parquet(\"data/category_extract\", engine=\"pyarrow\", write_index=False, overwrite=True)\n"
   ]
  },
  {
   "cell_type": "markdown",
   "id": "277486a2",
   "metadata": {},
   "source": [
    "Load the `data/nutrient_extract` dataset.\n"
   ]
  },
  {
   "cell_type": "code",
   "execution_count": 9,
   "id": "b6886637",
   "metadata": {},
   "outputs": [],
   "source": [
    "category_extract_df = dd.read_parquet(\"data/category_extract\", engine=\"pyarrow\", dtype_backend=\"pyarrow\")\n"
   ]
  },
  {
   "cell_type": "code",
   "execution_count": 10,
   "id": "167dc327",
   "metadata": {},
   "outputs": [
    {
     "data": {
      "text/html": [
       "<div>\n",
       "<style scoped>\n",
       "    .dataframe tbody tr th:only-of-type {\n",
       "        vertical-align: middle;\n",
       "    }\n",
       "\n",
       "    .dataframe tbody tr th {\n",
       "        vertical-align: top;\n",
       "    }\n",
       "\n",
       "    .dataframe thead th {\n",
       "        text-align: right;\n",
       "    }\n",
       "</style>\n",
       "<table border=\"1\" class=\"dataframe\">\n",
       "  <thead>\n",
       "    <tr style=\"text-align: right;\">\n",
       "      <th></th>\n",
       "      <th>code</th>\n",
       "      <th>product_lang</th>\n",
       "      <th>product_name</th>\n",
       "      <th>image_key</th>\n",
       "      <th>image_rev</th>\n",
       "      <th>categories</th>\n",
       "    </tr>\n",
       "  </thead>\n",
       "  <tbody>\n",
       "    <tr>\n",
       "      <th>0</th>\n",
       "      <td>0000101209159</td>\n",
       "      <td>main</td>\n",
       "      <td>Véritable pâte à tartiner noisettes chocolat noir</td>\n",
       "      <td>front_fr</td>\n",
       "      <td>4</td>\n",
       "      <td>Petit-déjeuners,Produits à tartiner,Produits à...</td>\n",
       "    </tr>\n",
       "    <tr>\n",
       "      <th>1</th>\n",
       "      <td>0000140323687</td>\n",
       "      <td>main</td>\n",
       "      <td>Madeleine Framboise</td>\n",
       "      <td>front_fr</td>\n",
       "      <td>4</td>\n",
       "      <td>Snacks, Snacks sucrés, Biscuits et gâteaux, Gâ...</td>\n",
       "    </tr>\n",
       "    <tr>\n",
       "      <th>2</th>\n",
       "      <td>0000141013129</td>\n",
       "      <td>main</td>\n",
       "      <td>Croissants margarine</td>\n",
       "      <td>front_fr</td>\n",
       "      <td>4</td>\n",
       "      <td>Snacks,Snacks sucrés,en:Sweet pastries and pie...</td>\n",
       "    </tr>\n",
       "  </tbody>\n",
       "</table>\n",
       "</div>"
      ],
      "text/plain": [
       "            code product_lang  \\\n",
       "0  0000101209159         main   \n",
       "1  0000140323687         main   \n",
       "2  0000141013129         main   \n",
       "\n",
       "                                        product_name image_key image_rev  \\\n",
       "0  Véritable pâte à tartiner noisettes chocolat noir  front_fr         4   \n",
       "1                                Madeleine Framboise  front_fr         4   \n",
       "2                               Croissants margarine  front_fr         4   \n",
       "\n",
       "                                          categories  \n",
       "0  Petit-déjeuners,Produits à tartiner,Produits à...  \n",
       "1  Snacks, Snacks sucrés, Biscuits et gâteaux, Gâ...  \n",
       "2  Snacks,Snacks sucrés,en:Sweet pastries and pie...  "
      ]
     },
     "execution_count": 10,
     "metadata": {},
     "output_type": "execute_result"
    }
   ],
   "source": [
    "category_extract_df.head(3)\n"
   ]
  },
  {
   "cell_type": "markdown",
   "id": "979dd220",
   "metadata": {},
   "source": [
    "## 4. Meal Type Classification\n"
   ]
  },
  {
   "cell_type": "markdown",
   "id": "74d586ca",
   "metadata": {},
   "source": [
    "Classify food products into meal types based on keywords in product names and categories.\n"
   ]
  },
  {
   "cell_type": "code",
   "execution_count": 11,
   "id": "9936f2df",
   "metadata": {},
   "outputs": [],
   "source": [
    "# Define meal type classification rules\n",
    "MEAL_TYPE_KEYWORDS = {\n",
    "    \"breakfast\": [\n",
    "        \"breakfast\", \"cereal\", \"muesli\", \"granola\", \"oatmeal\", \"porridge\",\n",
    "        \"pancake\", \"waffle\", \"toast\", \"jam\", \"marmalade\", \"honey\",\n",
    "        \"coffee\", \"tea\", \"juice\", \"smoothie\", \"yogurt\", \"yoghurt\", \"milk\",\n",
    "        \"cheese\", \"croissant\", \"bagel\", \"muffin\", \"egg\", \"bacon\", \"butter\",\n",
    "        \"cream\", \"apple\", \"banana\", \"oats\"\n",
    "    ],\n",
    "    \"main_meal\": [\n",
    "        \"lunch\", \"dinner\", \"sandwich\", \"wrap\", \"salad\", \"soup\", \"pasta\", \"rice\",\n",
    "        \"pizza\", \"burger\", \"hot dog\", \"noodle\", \"ramen\", \"sushi\", \"quinoa\",\n",
    "        \"bread\", \"taco\", \"burrito\", \"panini\", \"kebab\", \"meat\", \"chicken\",\n",
    "        \"beef\", \"pork\", \"fish\", \"seafood\", \"steak\", \"roast\", \"casserole\",\n",
    "        \"stew\", \"curry\", \"risotto\", \"turkey\", \"salmon\", \"lasagna\", \"spaghetti\",\n",
    "        \"grill\", \"barbecue\", \"tuna\", \"ready meal\", \"frozen meal\", \"tomato\",\n",
    "        \"carrot\"\n",
    "    ],\n",
    "    \"snack\": [\n",
    "        \"cracker\", \"nut\", \"popcorn\", \"pretzel\", \"chip\", \"crisp\", \"bar\",\n",
    "        \"cookie\", \"biscuit\", \"chocolate\", \"candy\", \"granola bar\", \"trail mix\",\n",
    "        \"fruit snack\", \"snack\", \"apple\", \"banana\", \"oats\"\n",
    "    ],\n",
    "    \"dessert\": [\n",
    "        \"dessert\", \"cake\", \"pie\", \"tart\", \"ice cream\", \"gelato\", \"sorbet\",\n",
    "        \"pudding\", \"mousse\", \"tiramisu\", \"brownie\", \"donut\", \"doughnut\",\n",
    "        \"jam\", \"honey\", \"cupcake\", \"macaron\", \"eclair\", \"cream\", \"butter\"\n",
    "    ],\n",
    "    \"beverage\": [\n",
    "        \"cola\", \"spirit\", \"liquor\", \"milk\", \"shake\", \"water\", \"soda\",\n",
    "        \"beer\", \"wine\", \"smoothie\", \"coffee\", \"tea\", \"latte\", \"espresso\",\n",
    "        \"mocha\", \"cocktail\", \"drink\", \"energy drink\", \"sparkling water\",\n",
    "        \"liqueur\"\n",
    "    ]\n",
    "}\n",
    "\n",
    "def classify_meal_type(row: pd.Series) -> list[str]:\n",
    "    text_to_analyse = f\"{row['product_name'].lower()} {row['categories'].lower()}\"\n",
    "\n",
    "    meal_types = []\n",
    "\n",
    "    for meal_type, keywords in MEAL_TYPE_KEYWORDS.items():\n",
    "        if any(keyword in text_to_analyse for keyword in keywords):\n",
    "            meal_types.append(meal_type)\n",
    "\n",
    "    return meal_types if meal_types else [\"unclassified\"]\n",
    "\n",
    "food_category_df = category_extract_df.copy()\n",
    "food_category_df[\"meal_types\"] = food_category_df.apply(classify_meal_type, axis=1, meta=(None, \"object\"))\n"
   ]
  },
  {
   "cell_type": "markdown",
   "id": "03864c02",
   "metadata": {},
   "source": [
    "Explode `meal_types` column and compute value counts for meal type distribution.\n"
   ]
  },
  {
   "cell_type": "code",
   "execution_count": 12,
   "id": "a211a638",
   "metadata": {},
   "outputs": [
    {
     "name": "stdout",
     "output_type": "stream",
     "text": [
      "[########################################] | 100% Completed | 73.95 ss\n"
     ]
    }
   ],
   "source": [
    "exploded_meal_types = food_category_df.explode(\"meal_types\")\n",
    "\n",
    "with ProgressBar():\n",
    "    meal_type_counts = exploded_meal_types[\"meal_types\"].value_counts().compute()\n"
   ]
  },
  {
   "cell_type": "markdown",
   "id": "e3f93ccf",
   "metadata": {},
   "source": [
    "Generate a pie chart to visualise the distribution of meal types.\n"
   ]
  },
  {
   "cell_type": "code",
   "execution_count": 13,
   "id": "c639c426",
   "metadata": {},
   "outputs": [
    {
     "data": {
      "image/png": "[encoded data removed]",
      "text/plain": [
       "<Figure size 600x600 with 1 Axes>"
      ]
     },
     "metadata": {},
     "output_type": "display_data"
    }
   ],
   "source": [
    "# Labels and sizes for the pie chart\n",
    "labels = meal_type_counts.index.tolist()\n",
    "sizes = meal_type_counts.values\n",
    "\n",
    "# Plot the pie chart\n",
    "plt.figure(figsize=(6, 6))\n",
    "plt.pie(sizes, labels=labels, startangle=90, autopct='%1.1f%%')\n",
    "plt.title(\"Meal Type Distribution\")\n",
    "plt.show()\n"
   ]
  },
  {
   "cell_type": "markdown",
   "id": "764d19e7",
   "metadata": {},
   "source": [
    "## 5. Category Hierarchy Mapping\n"
   ]
  },
  {
   "cell_type": "markdown",
   "id": "8a31f909",
   "metadata": {},
   "source": [
    "Classify food products into category hierarchies based on keywords in product names and categories.\n"
   ]
  },
  {
   "cell_type": "code",
   "execution_count": 14,
   "id": "bb096464",
   "metadata": {},
   "outputs": [],
   "source": [
    "# Define category hierarchy mapping rules\n",
    "CATEGORY_HIERARCHY = {\n",
    "    \"dairy\": [\n",
    "        \"dairy\", \"milk\", \"cheese\", \"yogurt\", \"yoghurt\", \"butter\", \"cream\",\n",
    "        \"ghee\", \"paneer\"\n",
    "    ],\n",
    "    \"meat_fish\": [\n",
    "        \"meat\", \"fish\", \"seafood\", \"chicken\", \"beef\", \"pork\", \"turkey\",\n",
    "        \"salmon\", \"tuna\", \"lamb\", \"mutton\", \"duck\", \"crab\", \"shrimp\",\n",
    "        \"lobster\", \"cod\", \"trout\", \"steak\", \"roast\", \"curry\", \"grill\",\n",
    "        \"barbecue\"\n",
    "    ],\n",
    "    \"grains_cereals\": [\n",
    "        \"cereal\", \"bread\", \"pasta\", \"rice\", \"flour\", \"oats\", \"wheat\",\n",
    "        \"quinoa\", \"granola\", \"oatmeal\", \"barley\", \"corn\", \"maize\", \"rye\",\n",
    "        \"millet\", \"toast\", \"pancake\", \"waffle\", \"muesli\", \"porridge\"\n",
    "    ],\n",
    "    \"fruits_vegetables\": [\n",
    "        \"fruit\", \"vegetable\", \"apple\", \"banana\", \"tomato\", \"carrot\",\n",
    "        \"spinach\", \"orange\", \"grape\", \"berry\", \"lettuce\", \"cucumber\",\n",
    "        \"potato\", \"onion\", \"pepper\", \"broccoli\"\n",
    "    ],\n",
    "    \"condiments_spices\": [\n",
    "        \"sauce\", \"spice\", \"herb\", \"salt\", \"pepper\", \"oil\", \"vinegar\",\n",
    "        \"dressing\", \"jam\", \"honey\", \"ketchup\", \"mustard\", \"mayonnaise\",\n",
    "        \"chutney\", \"soy sauce\", \"hot sauce\", \"garlic\", \"ginger\"\n",
    "    ],\n",
    "    \"prepared_meals\": [\n",
    "        \"prepared meal\", \"ready meal\", \"frozen meal\", \"pizza\", \"sandwich\",\n",
    "        \"burger\", \"wrap\", \"soup\", \"lasagna\", \"pasta bake\", \"stew\",\n",
    "        \"casserole\", \"burrito\", \"taco\", \"hot dog\", \"noodle\", \"ramen\",\n",
    "        \"sushi\", \"panini\", \"kebab\"\n",
    "    ]\n",
    "}\n",
    "\n",
    "def classify_hierarchy(row: pd.Series) -> list[str]:\n",
    "    text_to_analyse = f\"{row['product_name'].lower()} {row['categories'].lower()}\"\n",
    "\n",
    "    mapped_groups = []\n",
    "\n",
    "    for group, keywords in CATEGORY_HIERARCHY.items():\n",
    "        if any(keyword in text_to_analyse for keyword in keywords):\n",
    "            mapped_groups.append(group)\n",
    "\n",
    "    return mapped_groups if mapped_groups else [\"other\"]\n",
    "\n",
    "food_category_df[\"food_groups\"] = food_category_df.apply(classify_hierarchy, axis=1, meta=(None, \"object\"))\n"
   ]
  },
  {
   "cell_type": "markdown",
   "id": "f6e98efc",
   "metadata": {},
   "source": [
    "Explode `food_groups` column and compute value counts for food group distribution.\n"
   ]
  },
  {
   "cell_type": "code",
   "execution_count": 15,
   "id": "0d2522b0",
   "metadata": {},
   "outputs": [
    {
     "name": "stdout",
     "output_type": "stream",
     "text": [
      "[########################################] | 100% Completed | 95.58 ss\n"
     ]
    }
   ],
   "source": [
    "exploded_food_groups = food_category_df.explode(\"food_groups\")\n",
    "\n",
    "with ProgressBar():\n",
    "    food_group_counts = exploded_food_groups[\"food_groups\"].value_counts().compute()\n"
   ]
  },
  {
   "cell_type": "markdown",
   "id": "dea1cea7",
   "metadata": {},
   "source": [
    "Generate a pie chart to visualise the distribution of food groups.\n"
   ]
  },
  {
   "cell_type": "code",
   "execution_count": 16,
   "id": "01bd2e71",
   "metadata": {},
   "outputs": [
    {
     "data": {
      "image/png": "[encoded data removed]",
      "text/plain": [
       "<Figure size 600x600 with 1 Axes>"
      ]
     },
     "metadata": {},
     "output_type": "display_data"
    }
   ],
   "source": [
    "# Labels and sizes for the pie chart\n",
    "labels = food_group_counts.index.tolist()\n",
    "sizes = food_group_counts.values\n",
    "\n",
    "# Plot the pie chart\n",
    "plt.figure(figsize=(6, 6))\n",
    "plt.pie(sizes, labels=labels, startangle=90, autopct='%1.1f%%')\n",
    "plt.title(\"Food Group Distribution\")\n",
    "plt.show()\n"
   ]
  },
  {
   "cell_type": "markdown",
   "id": "cd81be13",
   "metadata": {},
   "source": [
    "## 6. Diet Pattern Analysis\n"
   ]
  },
  {
   "cell_type": "markdown",
   "id": "d1972ca5",
   "metadata": {},
   "source": [
    "Classify products into diet patterns and calculate compatibility scores.\n"
   ]
  },
  {
   "cell_type": "code",
   "execution_count": 17,
   "id": "27c7dbe0",
   "metadata": {},
   "outputs": [],
   "source": [
    "# Define diet pattern classification\n",
    "DIET_PATTERNS = {\n",
    "    'vegan': {\n",
    "        'include_keywords': [\n",
    "            'vegan', 'plant-based', 'vegetable', 'fruit', 'tofu', 'tempeh', 'seitan',\n",
    "            'soy', 'plant protein', 'legume', 'lentil', 'chickpea', 'quinoa', 'spinach',\n",
    "            'broccoli', 'carrot', 'cucumber', 'lettuce', 'berry', 'orange', 'grape'\n",
    "        ],\n",
    "        'exclude_keywords': [\n",
    "            'meat', 'chicken', 'beef', 'pork', 'fish', 'seafood', 'dairy', 'milk',\n",
    "            'cheese', 'egg', 'butter', 'cream', 'yogurt', 'honey', 'bacon'\n",
    "        ],\n",
    "        'description': 'Plant-based foods excluding all animal products'\n",
    "    },\n",
    "    'vegetarian': {\n",
    "        'include_keywords': [\n",
    "            'vegetarian', 'veggie', 'plant', 'paneer', 'quinoa', 'legume', 'lentil',\n",
    "            'chickpea', 'plant protein', 'egg', 'milk', 'cheese', 'yogurt', 'spinach',\n",
    "            'broccoli', 'carrot', 'cucumber', 'lettuce', 'berry', 'orange', 'grape'\n",
    "        ],\n",
    "        'exclude_keywords': ['meat', 'chicken', 'beef', 'pork', 'fish', 'seafood'],\n",
    "        'description': 'Plant-based and dairy products, excluding meat and fish'\n",
    "    },\n",
    "    'mediterranean': {\n",
    "        'include_keywords': [\n",
    "            'olive', 'fish', 'seafood', 'vegetable', 'fruit', 'nuts', 'whole grain',\n",
    "            'hummus', 'falafel', 'legume', 'lentil', 'chickpea', 'bulgur', 'tabbouleh',\n",
    "            'tomato', 'cucumber', 'onion', 'pepper', 'spinach', 'grape', 'orange'\n",
    "        ],\n",
    "        'exclude_keywords': ['processed', 'fried', 'fast food', 'sugary snacks'],\n",
    "        'description': 'Traditional Mediterranean diet patterns'\n",
    "    },\n",
    "    'keto': {\n",
    "        'include_keywords': [\n",
    "            'high fat', 'low carb', 'keto', 'ketogenic', 'meat', 'fish', 'cheese',\n",
    "            'nuts', 'avocado', 'coconut oil', 'almond flour', 'cauliflower rice',\n",
    "            'zucchini noodles', 'butter', 'cream', 'egg', 'bacon', 'salmon', 'tuna'\n",
    "        ],\n",
    "        'exclude_keywords': [\n",
    "            'sugar', 'bread', 'pasta', 'rice', 'potato', 'high-carb fruit', 'beer',\n",
    "            'soda', 'juice', 'honey', 'oats'\n",
    "        ],\n",
    "        'description': 'High-fat, very low-carbohydrate foods'\n",
    "    },\n",
    "    'gluten_free': {\n",
    "        'include_keywords': [\n",
    "            'gluten-free', 'gluten free', 'rice', 'quinoa', 'corn', 'buckwheat',\n",
    "            'amaranth', 'teff', 'sorghum', 'cassava', 'arrowroot', 'potato', 'oats'\n",
    "        ],\n",
    "        'exclude_keywords': [\n",
    "            'wheat', 'barley', 'rye', 'bread', 'pasta', 'beer', 'malt', 'malt extract'\n",
    "        ],\n",
    "        'description': 'Foods without gluten-containing grains'\n",
    "    },\n",
    "    'dairy_free': {\n",
    "        'include_keywords': [\n",
    "            'dairy-free', 'dairy free', 'plant milk', 'coconut', 'almond', 'oat milk',\n",
    "            'soy milk', 'cashew milk', 'rice milk', 'vegan cheese', 'ghee alternative'\n",
    "        ],\n",
    "        'exclude_keywords': [\n",
    "            'milk', 'cheese', 'butter', 'cream', 'yogurt', 'yoghurt', 'paneer', 'ghee'\n",
    "        ],\n",
    "        'description': 'Foods without dairy products'\n",
    "    }\n",
    "}\n",
    "\n",
    "def classify_hierarchy(row: pd.Series) -> list[str]:\n",
    "    text_to_analyse = f\"{row['product_name'].lower()} {row['categories'].lower()}\"\n",
    "\n",
    "    mapped_groups = []\n",
    "\n",
    "    for group, keywords in CATEGORY_HIERARCHY.items():\n",
    "        if any(keyword in text_to_analyse for keyword in keywords):\n",
    "            mapped_groups.append(group)\n",
    "\n",
    "    return mapped_groups if mapped_groups else [\"other\"]\n",
    "\n",
    "def classify_diet_patterns(row: pd.Series) -> tuple[list[str], dict[str, int]]:\n",
    "    text_to_analyse = f\"{row['product_name'].lower()} {row['categories'].lower()}\"\n",
    "\n",
    "    diet_patterns = []\n",
    "    diet_scores = {}\n",
    "\n",
    "    for diet_name, diet_rules in DIET_PATTERNS.items():\n",
    "        include_score = sum(1 for keyword in diet_rules['include_keywords']\n",
    "                           if keyword in text_to_analyse)\n",
    "        exclude_penalty = sum(1 for keyword in diet_rules['exclude_keywords']\n",
    "                             if keyword in text_to_analyse)\n",
    "\n",
    "        compatibility_score = include_score - exclude_penalty\n",
    "        diet_scores[diet_name] = compatibility_score\n",
    "\n",
    "        if compatibility_score > 0 and exclude_penalty == 0:\n",
    "            diet_patterns.append(diet_name)\n",
    "\n",
    "    if len(diet_patterns) == 0:\n",
    "        diet_patterns.append(\"other\")\n",
    "\n",
    "    return diet_patterns, diet_scores\n",
    "\n",
    "result = food_category_df.apply(classify_diet_patterns, axis=1, meta=(None, \"object\"))\n",
    "\n",
    "food_category_df[\"diet_patterns\"] = result.map(lambda x: x[0], meta=(None, \"object\"))\n",
    "food_category_df[\"diet_scores\"] = result.map(lambda x: x[1], meta=(None, \"object\"))\n"
   ]
  },
  {
   "cell_type": "markdown",
   "id": "c905f99b",
   "metadata": {},
   "source": [
    "Explode `diet_patterns` column and compute value counts for diet pattern distribution.\n"
   ]
  },
  {
   "cell_type": "code",
   "execution_count": 18,
   "id": "13fd75d6",
   "metadata": {},
   "outputs": [
    {
     "name": "stdout",
     "output_type": "stream",
     "text": [
      "[                                        ] | 0% Completed | 106.04 us"
     ]
    },
    {
     "name": "stdout",
     "output_type": "stream",
     "text": [
      "[########################################] | 100% Completed | 125.46 s\n"
     ]
    }
   ],
   "source": [
    "exploded_diet_patterns = food_category_df.explode(\"diet_patterns\")\n",
    "\n",
    "with ProgressBar():\n",
    "    diet_pattern_counts = exploded_diet_patterns[\"diet_patterns\"].value_counts().compute()\n"
   ]
  },
  {
   "cell_type": "markdown",
   "id": "2d0ad5a4",
   "metadata": {},
   "source": [
    "Generate a pie chart to visualise the distribution of diet patterns.\n"
   ]
  },
  {
   "cell_type": "code",
   "execution_count": 19,
   "id": "96416bdc",
   "metadata": {},
   "outputs": [
    {
     "data": {
      "image/png": "[encoded data removed]",
      "text/plain": [
       "<Figure size 600x600 with 1 Axes>"
      ]
     },
     "metadata": {},
     "output_type": "display_data"
    }
   ],
   "source": [
    "# Labels and sizes for the pie chart\n",
    "labels = diet_pattern_counts.index.tolist()\n",
    "sizes = diet_pattern_counts.values\n",
    "\n",
    "# Plot the pie chart\n",
    "plt.figure(figsize=(6, 6))\n",
    "plt.pie(sizes, labels=labels, startangle=90, autopct='%1.1f%%')\n",
    "plt.title(\"Diet Pattern Distribution\")\n",
    "plt.show()\n"
   ]
  },
  {
   "cell_type": "markdown",
   "id": "0c00faec",
   "metadata": {},
   "source": [
    "## 7. Important Food Features\n"
   ]
  },
  {
   "cell_type": "markdown",
   "id": "019d0b0d",
   "metadata": {},
   "source": [
    "Generate binary feature columns for meal types, food groups, and diet compatibility.\n"
   ]
  },
  {
   "cell_type": "code",
   "execution_count": 20,
   "id": "130f711e",
   "metadata": {},
   "outputs": [],
   "source": [
    "# 1. Binary features for meal types\n",
    "for meal_type in MEAL_TYPE_KEYWORDS.keys():\n",
    "    food_category_df[f'is_{meal_type}'] = food_category_df['meal_types'].apply(\n",
    "        lambda x, meal_type=meal_type: meal_type in x, meta=(None, \"bool\")\n",
    "    )\n",
    "\n",
    "# 2. Binary features for food groups\n",
    "for food_group in CATEGORY_HIERARCHY.keys():\n",
    "    food_category_df[f'is_{food_group}'] = food_category_df['food_groups'].apply(\n",
    "        lambda x, food_group=food_group: food_group in x, meta=(None, \"bool\")\n",
    "    )\n",
    "\n",
    "# 3. Binary features for diet compatibility\n",
    "for diet_pattern in DIET_PATTERNS.keys():\n",
    "    food_category_df[f'is_{diet_pattern}_compatible'] = food_category_df['diet_patterns'].apply(\n",
    "        lambda x, diet_pattern=diet_pattern: diet_pattern in x, meta=(None, \"bool\")\n",
    "    )\n"
   ]
  },
  {
   "cell_type": "markdown",
   "id": "fe9258b0",
   "metadata": {},
   "source": [
    "Extract and compute the sum of binary feature columns starting with `is_`.\n"
   ]
  },
  {
   "cell_type": "code",
   "execution_count": 21,
   "id": "7460b289",
   "metadata": {},
   "outputs": [
    {
     "name": "stdout",
     "output_type": "stream",
     "text": [
      "[########################################] | 100% Completed | 127.68 s\n"
     ]
    }
   ],
   "source": [
    "# Extract all columns starting with \"is_\"\n",
    "is_columns = [col for col in food_category_df.columns if col.startswith(\"is_\")]\n",
    "\n",
    "# Compute the sum of True values for each column\n",
    "with ProgressBar():\n",
    "    is_column_sums = food_category_df[is_columns].sum().compute()\n"
   ]
  },
  {
   "cell_type": "markdown",
   "id": "b3c5815f",
   "metadata": {},
   "source": [
    "Generate a bar chart showing the distribution of important food feature.\n"
   ]
  },
  {
   "cell_type": "code",
   "execution_count": 22,
   "id": "d8b15ecb",
   "metadata": {},
   "outputs": [
    {
     "data": {
      "image/png": "[encoded data removed]",
      "text/plain": [
       "<Figure size 1000x600 with 1 Axes>"
      ]
     },
     "metadata": {},
     "output_type": "display_data"
    }
   ],
   "source": [
    "# Plot the bar chart\n",
    "plt.figure(figsize=(10, 6))\n",
    "is_column_sums.sort_values(ascending=False).plot(kind=\"bar\")\n",
    "plt.title(\"Distribution of Important Food Features\")\n",
    "plt.ylabel(\"Count\")\n",
    "plt.xlabel(\"Feature\")\n",
    "plt.xticks(rotation=45, ha=\"right\")\n",
    "plt.tight_layout()\n",
    "plt.show()\n"
   ]
  },
  {
   "cell_type": "markdown",
   "id": "99dfe19a",
   "metadata": {},
   "source": [
    "Create product features dataset and save into `data\\product_features`.\n"
   ]
  },
  {
   "cell_type": "code",
   "execution_count": 23,
   "id": "07b1b982",
   "metadata": {},
   "outputs": [
    {
     "name": "stdout",
     "output_type": "stream",
     "text": [
      "[########################################] | 100% Completed | 126.46 s\n"
     ]
    }
   ],
   "source": [
    "product_features_df = food_category_df.drop(\n",
    "    columns=[\"product_lang\", \"categories\", \"meal_types\", \"food_groups\", \"diet_patterns\", \"diet_scores\"]\n",
    ")\n",
    "\n",
    "with ProgressBar():\n",
    "    product_features_df.to_parquet(\"data/product_features\", engine=\"pyarrow\", write_index=True, overwrite=True)\n"
   ]
  },
  {
   "cell_type": "markdown",
   "id": "c796a642",
   "metadata": {},
   "source": [
    "Load the `data/product_features` dataset.\n"
   ]
  },
  {
   "cell_type": "code",
   "execution_count": 24,
   "id": "5c860a26",
   "metadata": {},
   "outputs": [],
   "source": [
    "product_features_df = dd.read_parquet(\"data/product_features\", engine=\"pyarrow\", dtype_backend=\"pyarrow\")\n"
   ]
  },
  {
   "cell_type": "markdown",
   "id": "b8404676",
   "metadata": {},
   "source": [
    "View top 3 rows in `product_features_df`.\n"
   ]
  },
  {
   "cell_type": "code",
   "execution_count": 25,
   "id": "209b686b",
   "metadata": {},
   "outputs": [
    {
     "data": {
      "text/html": [
       "<div>\n",
       "<style scoped>\n",
       "    .dataframe tbody tr th:only-of-type {\n",
       "        vertical-align: middle;\n",
       "    }\n",
       "\n",
       "    .dataframe tbody tr th {\n",
       "        vertical-align: top;\n",
       "    }\n",
       "\n",
       "    .dataframe thead th {\n",
       "        text-align: right;\n",
       "    }\n",
       "</style>\n",
       "<table border=\"1\" class=\"dataframe\">\n",
       "  <thead>\n",
       "    <tr style=\"text-align: right;\">\n",
       "      <th></th>\n",
       "      <th>code</th>\n",
       "      <th>product_name</th>\n",
       "      <th>image_key</th>\n",
       "      <th>image_rev</th>\n",
       "      <th>is_breakfast</th>\n",
       "      <th>is_main_meal</th>\n",
       "      <th>is_snack</th>\n",
       "      <th>is_dessert</th>\n",
       "      <th>is_beverage</th>\n",
       "      <th>is_dairy</th>\n",
       "      <th>...</th>\n",
       "      <th>is_grains_cereals</th>\n",
       "      <th>is_fruits_vegetables</th>\n",
       "      <th>is_condiments_spices</th>\n",
       "      <th>is_prepared_meals</th>\n",
       "      <th>is_vegan_compatible</th>\n",
       "      <th>is_vegetarian_compatible</th>\n",
       "      <th>is_mediterranean_compatible</th>\n",
       "      <th>is_keto_compatible</th>\n",
       "      <th>is_gluten_free_compatible</th>\n",
       "      <th>is_dairy_free_compatible</th>\n",
       "    </tr>\n",
       "  </thead>\n",
       "  <tbody>\n",
       "    <tr>\n",
       "      <th>0</th>\n",
       "      <td>0000101209159</td>\n",
       "      <td>Véritable pâte à tartiner noisettes chocolat noir</td>\n",
       "      <td>front_fr</td>\n",
       "      <td>4</td>\n",
       "      <td>False</td>\n",
       "      <td>False</td>\n",
       "      <td>False</td>\n",
       "      <td>True</td>\n",
       "      <td>True</td>\n",
       "      <td>False</td>\n",
       "      <td>...</td>\n",
       "      <td>False</td>\n",
       "      <td>False</td>\n",
       "      <td>False</td>\n",
       "      <td>False</td>\n",
       "      <td>False</td>\n",
       "      <td>False</td>\n",
       "      <td>False</td>\n",
       "      <td>False</td>\n",
       "      <td>False</td>\n",
       "      <td>False</td>\n",
       "    </tr>\n",
       "    <tr>\n",
       "      <th>1</th>\n",
       "      <td>0000140323687</td>\n",
       "      <td>Madeleine Framboise</td>\n",
       "      <td>front_fr</td>\n",
       "      <td>4</td>\n",
       "      <td>True</td>\n",
       "      <td>False</td>\n",
       "      <td>True</td>\n",
       "      <td>False</td>\n",
       "      <td>True</td>\n",
       "      <td>False</td>\n",
       "      <td>...</td>\n",
       "      <td>False</td>\n",
       "      <td>False</td>\n",
       "      <td>False</td>\n",
       "      <td>False</td>\n",
       "      <td>False</td>\n",
       "      <td>False</td>\n",
       "      <td>False</td>\n",
       "      <td>False</td>\n",
       "      <td>False</td>\n",
       "      <td>False</td>\n",
       "    </tr>\n",
       "    <tr>\n",
       "      <th>2</th>\n",
       "      <td>0000141013129</td>\n",
       "      <td>Croissants margarine</td>\n",
       "      <td>front_fr</td>\n",
       "      <td>4</td>\n",
       "      <td>True</td>\n",
       "      <td>False</td>\n",
       "      <td>True</td>\n",
       "      <td>True</td>\n",
       "      <td>False</td>\n",
       "      <td>False</td>\n",
       "      <td>...</td>\n",
       "      <td>False</td>\n",
       "      <td>False</td>\n",
       "      <td>False</td>\n",
       "      <td>False</td>\n",
       "      <td>False</td>\n",
       "      <td>False</td>\n",
       "      <td>False</td>\n",
       "      <td>False</td>\n",
       "      <td>False</td>\n",
       "      <td>False</td>\n",
       "    </tr>\n",
       "  </tbody>\n",
       "</table>\n",
       "<p>3 rows × 21 columns</p>\n",
       "</div>"
      ],
      "text/plain": [
       "            code                                       product_name image_key  \\\n",
       "0  0000101209159  Véritable pâte à tartiner noisettes chocolat noir  front_fr   \n",
       "1  0000140323687                                Madeleine Framboise  front_fr   \n",
       "2  0000141013129                               Croissants margarine  front_fr   \n",
       "\n",
       "  image_rev is_breakfast is_main_meal is_snack is_dessert is_beverage  \\\n",
       "0         4        False        False    False       True        True   \n",
       "1         4         True        False     True      False        True   \n",
       "2         4         True        False     True       True       False   \n",
       "\n",
       "  is_dairy  ... is_grains_cereals is_fruits_vegetables is_condiments_spices  \\\n",
       "0    False  ...             False                False                False   \n",
       "1    False  ...             False                False                False   \n",
       "2    False  ...             False                False                False   \n",
       "\n",
       "  is_prepared_meals is_vegan_compatible is_vegetarian_compatible  \\\n",
       "0             False               False                    False   \n",
       "1             False               False                    False   \n",
       "2             False               False                    False   \n",
       "\n",
       "  is_mediterranean_compatible is_keto_compatible is_gluten_free_compatible  \\\n",
       "0                       False              False                     False   \n",
       "1                       False              False                     False   \n",
       "2                       False              False                     False   \n",
       "\n",
       "  is_dairy_free_compatible  \n",
       "0                    False  \n",
       "1                    False  \n",
       "2                    False  \n",
       "\n",
       "[3 rows x 21 columns]"
      ]
     },
     "execution_count": 25,
     "metadata": {},
     "output_type": "execute_result"
    }
   ],
   "source": [
    "product_features_df.head(3)\n"
   ]
  }
 ],
 "metadata": {
  "kernelspec": {
   "display_name": ".venv (3.12.11)",
   "language": "python",
   "name": "python3"
  },
  "language_info": {
   "codemirror_mode": {
    "name": "ipython",
    "version": 3
   },
   "file_extension": ".py",
   "mimetype": "text/x-python",
   "name": "python",
   "nbconvert_exporter": "python",
   "pygments_lexer": "ipython3",
   "version": "3.12.11"
  }
 },
 "nbformat": 4,
 "nbformat_minor": 5
}
