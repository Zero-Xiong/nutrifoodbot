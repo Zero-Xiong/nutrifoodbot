{
 "cells": [
  {
   "cell_type": "markdown",
   "id": "ea268eaf",
   "metadata": {},
   "source": [
    "# Implicit Feedback Recommender\n",
    "\n"
   ]
  },
  {
   "cell_type": "markdown",
   "id": "f8ec620a",
   "metadata": {},
   "source": [
    "## 1. Setup and Imports"
   ]
  },
  {
   "cell_type": "code",
   "execution_count": 21,
   "id": "ccb6523b",
   "metadata": {},
   "outputs": [],
   "source": [
    "from itertools import product\n",
    "from pathlib import Path\n",
    "import pickle\n",
    "from typing import Literal\n",
    "\n",
    "from implicit.als import AlternatingLeastSquares\n",
    "from implicit.evaluation import leave_k_out_split\n",
    "from implicit.nearest_neighbours import bm25_weight\n",
    "import numpy as np\n",
    "import pandas as pd\n",
    "from scipy.sparse import coo_matrix, csr_matrix\n",
    "#from tqdm.notebook import trange, tqdm_notebook\n",
    "from tqdm import trange, tqdm\n"
   ]
  },
  {
   "cell_type": "code",
   "execution_count": 22,
   "id": "682381f4",
   "metadata": {},
   "outputs": [],
   "source": [
    "RANDOM_SEED = 42\n"
   ]
  },
  {
   "cell_type": "markdown",
   "id": "92b0d5a9",
   "metadata": {},
   "source": [
    "## 2. Data Loading"
   ]
  },
  {
   "cell_type": "markdown",
   "id": "c39257fc",
   "metadata": {},
   "source": [
    "Define functions for data loading and preprocessing."
   ]
  },
  {
   "cell_type": "code",
   "execution_count": 23,
   "id": "51f0fc22",
   "metadata": {},
   "outputs": [],
   "source": [
    "EVENT_STRENGTH: dict[str, float] = {\n",
    "    \"view\": 1.0,\n",
    "    \"query_search\": 2.0,\n",
    "    \"click\": 3.0,\n",
    "    \"compare\": 4.0,\n",
    "}\n",
    "\n",
    "def load_implicit_feedback(path: str) -> pd.DataFrame:\n",
    "    frame = pd.read_csv(path)\n",
    "    frame[\"Strength\"] = frame[\"Event\"].map(EVENT_STRENGTH).astype(np.float32)\n",
    "    return frame\n",
    "\n",
    "def build_item_user_matrix(frame: pd.DataFrame) -> tuple[csr_matrix, np.ndarray, np.ndarray]:\n",
    "    user_codes, user_index = pd.factorize(frame[\"UserID\"], sort=True)\n",
    "    item_codes, item_index = pd.factorize(frame[\"ProductCode\"], sort=True)\n",
    "\n",
    "    matrix = coo_matrix(\n",
    "        (frame[\"Strength\"].astype(np.float32), (item_codes, user_codes)),\n",
    "        shape=(len(item_index), len(user_index)),\n",
    "    )\n",
    "\n",
    "    return matrix.tocsr(), user_index, item_index\n"
   ]
  },
  {
   "cell_type": "markdown",
   "id": "bfb5a3f6",
   "metadata": {},
   "source": [
    "Load and preprocess data."
   ]
  },
  {
   "cell_type": "code",
   "execution_count": 24,
   "id": "d7ee2242",
   "metadata": {},
   "outputs": [
    {
     "name": "stdout",
     "output_type": "stream",
     "text": [
      "Matrix shape (items x users): (34797, 5000)\n"
     ]
    }
   ],
   "source": [
    "implicit_df = load_implicit_feedback(\"data/feedback_implicit.csv\")\n",
    "user_item_matrix, user_index, item_index = build_item_user_matrix(implicit_df)\n",
    "print(f\"Matrix shape (items x users): {user_item_matrix.shape}\")\n"
   ]
  },
  {
   "cell_type": "markdown",
   "id": "79b5d4f3",
   "metadata": {},
   "source": [
    "## 3. Model Training"
   ]
  },
  {
   "cell_type": "markdown",
   "id": "8b519491",
   "metadata": {},
   "source": [
    "Split the `user_item` matrix into train and test sets using *leave-1-out* evaluation strategy."
   ]
  },
  {
   "cell_type": "code",
   "execution_count": 25,
   "id": "76f5916a",
   "metadata": {},
   "outputs": [
    {
     "name": "stdout",
     "output_type": "stream",
     "text": [
      "Leave-1-out | train: 89,895 | test: 5,000\n"
     ]
    }
   ],
   "source": [
    "user_items = bm25_weight(user_item_matrix, K1=100, B=0.8).T.tocsr()\n",
    "train_l1o, test_l1o = leave_k_out_split(user_items, random_state=RANDOM_SEED)\n",
    "print(f\"Leave-1-out | train: {train_l1o.nnz:,} | test: {test_l1o.nnz:,}\")\n"
   ]
  },
  {
   "cell_type": "markdown",
   "id": "ff3ca13a",
   "metadata": {},
   "source": [
    "Train the ALS recommender using the `train_l1o` train set."
   ]
  },
  {
   "cell_type": "code",
   "execution_count": 26,
   "id": "9352602a",
   "metadata": {},
   "outputs": [
    {
     "data": {
      "application/vnd.jupyter.widget-view+json": {
       "model_id": "0550869f3f244599a3d8c9b9f8ccfc82",
       "version_major": 2,
       "version_minor": 0
      },
      "text/plain": [
       "  0%|          | 0/15 [00:00<?, ?it/s]"
      ]
     },
     "metadata": {},
     "output_type": "display_data"
    }
   ],
   "source": [
    "model = AlternatingLeastSquares(factors=64, regularization=0.05, alpha=20.0, random_state=RANDOM_SEED)\n",
    "model.fit(train_l1o)\n"
   ]
  },
  {
   "cell_type": "markdown",
   "id": "09c8bb87",
   "metadata": {},
   "source": [
    "Generate and visualise top-10 recommendations for the first user."
   ]
  },
  {
   "cell_type": "code",
   "execution_count": 27,
   "id": "69e8ccca",
   "metadata": {},
   "outputs": [
    {
     "data": {
      "text/html": [
       "<div>\n",
       "<style scoped>\n",
       "    .dataframe tbody tr th:only-of-type {\n",
       "        vertical-align: middle;\n",
       "    }\n",
       "\n",
       "    .dataframe tbody tr th {\n",
       "        vertical-align: top;\n",
       "    }\n",
       "\n",
       "    .dataframe thead th {\n",
       "        text-align: right;\n",
       "    }\n",
       "</style>\n",
       "<table border=\"1\" class=\"dataframe\">\n",
       "  <thead>\n",
       "    <tr style=\"text-align: right;\">\n",
       "      <th></th>\n",
       "      <th>item</th>\n",
       "      <th>score</th>\n",
       "      <th>already_liked</th>\n",
       "    </tr>\n",
       "  </thead>\n",
       "  <tbody>\n",
       "    <tr>\n",
       "      <th>0</th>\n",
       "      <td>0131044121328</td>\n",
       "      <td>0.925285</td>\n",
       "      <td>True</td>\n",
       "    </tr>\n",
       "    <tr>\n",
       "      <th>1</th>\n",
       "      <td>0638102660350</td>\n",
       "      <td>0.922950</td>\n",
       "      <td>True</td>\n",
       "    </tr>\n",
       "    <tr>\n",
       "      <th>2</th>\n",
       "      <td>8718907133302</td>\n",
       "      <td>0.919939</td>\n",
       "      <td>True</td>\n",
       "    </tr>\n",
       "    <tr>\n",
       "      <th>3</th>\n",
       "      <td>0788434108096</td>\n",
       "      <td>0.909490</td>\n",
       "      <td>True</td>\n",
       "    </tr>\n",
       "    <tr>\n",
       "      <th>4</th>\n",
       "      <td>0857889007022</td>\n",
       "      <td>0.905493</td>\n",
       "      <td>True</td>\n",
       "    </tr>\n",
       "    <tr>\n",
       "      <th>5</th>\n",
       "      <td>5400119540650</td>\n",
       "      <td>0.893326</td>\n",
       "      <td>True</td>\n",
       "    </tr>\n",
       "    <tr>\n",
       "      <th>6</th>\n",
       "      <td>3512660038103</td>\n",
       "      <td>0.883225</td>\n",
       "      <td>True</td>\n",
       "    </tr>\n",
       "    <tr>\n",
       "      <th>7</th>\n",
       "      <td>7310500178103</td>\n",
       "      <td>0.879426</td>\n",
       "      <td>True</td>\n",
       "    </tr>\n",
       "    <tr>\n",
       "      <th>8</th>\n",
       "      <td>0073504200641</td>\n",
       "      <td>0.879410</td>\n",
       "      <td>True</td>\n",
       "    </tr>\n",
       "    <tr>\n",
       "      <th>9</th>\n",
       "      <td>0021908130439</td>\n",
       "      <td>0.879386</td>\n",
       "      <td>True</td>\n",
       "    </tr>\n",
       "  </tbody>\n",
       "</table>\n",
       "</div>"
      ],
      "text/plain": [
       "            item     score  already_liked\n",
       "0  0131044121328  0.925285           True\n",
       "1  0638102660350  0.922950           True\n",
       "2  8718907133302  0.919939           True\n",
       "3  0788434108096  0.909490           True\n",
       "4  0857889007022  0.905493           True\n",
       "5  5400119540650  0.893326           True\n",
       "6  3512660038103  0.883225           True\n",
       "7  7310500178103  0.879426           True\n",
       "8  0073504200641  0.879410           True\n",
       "9  0021908130439  0.879386           True"
      ]
     },
     "metadata": {},
     "output_type": "display_data"
    }
   ],
   "source": [
    "userid = 0\n",
    "ids, scores = model.recommend(\n",
    "    userid,\n",
    "    user_items=None,\n",
    "    N=10,\n",
    "    filter_already_liked_items=False,\n",
    ")\n",
    "display(pd.DataFrame({\n",
    "    \"item\": item_index[ids],\n",
    "    \"score\": scores,\n",
    "    \"already_liked\": np.in1d(ids, user_items[userid].indices)\n",
    "}))\n"
   ]
  },
  {
   "cell_type": "markdown",
   "id": "60a98d21",
   "metadata": {},
   "source": [
    "## 4. Model Evaluation"
   ]
  },
  {
   "cell_type": "markdown",
   "id": "8d7f639b",
   "metadata": {},
   "source": [
    "Define functions for recommender evaluation."
   ]
  },
  {
   "cell_type": "code",
   "execution_count": 28,
   "id": "9930b414",
   "metadata": {},
   "outputs": [],
   "source": [
    "def precision_at_k(recommended: list[int], relevant: list[int], k: int):\n",
    "    hits = sum(1 for item in recommended[:k] if item in relevant)\n",
    "    denom = min(len(relevant), k)\n",
    "    return hits / denom\n",
    "\n",
    "def average_precision_at_k(recommended: list[int], relevant: set[int], k: int) -> float:\n",
    "    hits = 0\n",
    "    score = 0.0\n",
    "    for rank, item_id in enumerate(recommended[:k], start=1):\n",
    "        if item_id in relevant:\n",
    "            hits += 1\n",
    "        score += hits / rank\n",
    "    denom = min(len(relevant), k)\n",
    "    return score / denom if denom else 0.0\n",
    "\n",
    "def mean_average_precision_at_k(\n",
    "    model: AlternatingLeastSquares,\n",
    "    train_user_items: csr_matrix,\n",
    "    test_user_items: csr_matrix,\n",
    "    k: int,\n",
    "    *,\n",
    "    eval_mode: Literal[\"test\", \"train\"] = \"test\",\n",
    "    show_progress: bool = True,\n",
    ") -> float:\n",
    "\n",
    "    ap_scores: list[float] = []\n",
    "\n",
    "    user_items = test_user_items if eval_mode == \"test\" else train_user_items\n",
    "\n",
    "    user_iter = trange(user_items.shape[0], desc=\"Computing MAP@K\", leave=True) if show_progress else range(user_items.shape[0])\n",
    "    for user_idx in user_iter:\n",
    "        if not (relevant := set(user_items[user_idx].indices.tolist())):\n",
    "            continue\n",
    "\n",
    "        rec_ids, _ = model.recommend(\n",
    "            userid=user_idx,\n",
    "            user_items=train_user_items[user_idx] if eval_mode == \"test\" else None,\n",
    "            N=k,\n",
    "            filter_already_liked_items=eval_mode == \"test\",\n",
    "        )\n",
    "\n",
    "        ap_scores.append(average_precision_at_k(rec_ids, relevant, k))\n",
    "\n",
    "    return np.mean(ap_scores) if ap_scores else 0.0\n"
   ]
  },
  {
   "cell_type": "markdown",
   "id": "895aaadb",
   "metadata": {},
   "source": [
    "Measure MAP@10 for train set."
   ]
  },
  {
   "cell_type": "code",
   "execution_count": 29,
   "id": "91ae6867",
   "metadata": {},
   "outputs": [
    {
     "name": "stderr",
     "output_type": "stream",
     "text": [
      "Computing MAP@K: 100%|██████████| 5000/5000 [00:01<00:00, 2679.45it/s]"
     ]
    },
    {
     "name": "stdout",
     "output_type": "stream",
     "text": [
      "MAP@10 (Train): 0.9136\n"
     ]
    },
    {
     "name": "stderr",
     "output_type": "stream",
     "text": [
      "\n"
     ]
    }
   ],
   "source": [
    "map_at_k = mean_average_precision_at_k(\n",
    "    model=model,\n",
    "    train_user_items=train_l1o,\n",
    "    test_user_items=test_l1o,\n",
    "    eval_mode=\"train\",\n",
    "    k=10,\n",
    ")\n",
    "print(f\"MAP@10 (Train): {map_at_k:.4f}\")\n"
   ]
  },
  {
   "cell_type": "markdown",
   "id": "81c8ab0c",
   "metadata": {},
   "source": [
    "Measure MAP@10 for test set."
   ]
  },
  {
   "cell_type": "code",
   "execution_count": 30,
   "id": "57d54432",
   "metadata": {},
   "outputs": [
    {
     "name": "stderr",
     "output_type": "stream",
     "text": [
      "Computing MAP@K: 100%|██████████| 5000/5000 [00:01<00:00, 3321.89it/s]"
     ]
    },
    {
     "name": "stdout",
     "output_type": "stream",
     "text": [
      "MAP@10 (Test): 0.1577\n"
     ]
    },
    {
     "name": "stderr",
     "output_type": "stream",
     "text": [
      "\n"
     ]
    }
   ],
   "source": [
    "map_at_k = mean_average_precision_at_k(\n",
    "    model=model,\n",
    "    train_user_items=train_l1o,\n",
    "    test_user_items=test_l1o,\n",
    "    eval_mode=\"test\",\n",
    "    k=10,\n",
    ")\n",
    "print(f\"MAP@10 (Test): {map_at_k:.4f}\")"
   ]
  },
  {
   "cell_type": "markdown",
   "id": "f8d60923",
   "metadata": {},
   "source": [
    "## 5. Hyperparameter Tuning"
   ]
  },
  {
   "cell_type": "markdown",
   "id": "6426b754",
   "metadata": {},
   "source": [
    "Grid search hyperparameters."
   ]
  },
  {
   "cell_type": "code",
   "execution_count": 31,
   "id": "4f0ece17",
   "metadata": {},
   "outputs": [
    {
     "name": "stderr",
     "output_type": "stream",
     "text": [
      "Grid Search: 100%|██████████| 64/64 [02:19<00:00,  2.19s/it]\n"
     ]
    }
   ],
   "source": [
    "def grid_search_als(\n",
    "    param_grid: dict,\n",
    "    k: int = 10,\n",
    ") -> pd.DataFrame:\n",
    "    \"\"\"Grid search for ALS hyperparameters.\"\"\"\n",
    "    results = []\n",
    "    param_combos = list(product(\n",
    "        param_grid[\"factors\"],\n",
    "        param_grid[\"regularization\"],\n",
    "        param_grid[\"alpha\"],\n",
    "        param_grid[\"iterations\"],\n",
    "        param_grid[\"bm25_K1\"],\n",
    "        param_grid[\"bm25_B\"],\n",
    "    ))\n",
    "    # Use tqdm from notebook for widget bar\n",
    "    for factors, reg, alpha, iters, k1, b in tqdm(param_combos, desc=\"Grid Search\", leave=True):\n",
    "        weighted = bm25_weight(user_item_matrix, K1=k1, B=b).T.tocsr()\n",
    "        train_l1o, test_l1o = leave_k_out_split(weighted, random_state=RANDOM_SEED)\n",
    "        model = AlternatingLeastSquares(\n",
    "            factors=factors,\n",
    "            regularization=reg,\n",
    "            alpha=alpha,\n",
    "            iterations=iters,\n",
    "            random_state=RANDOM_SEED,\n",
    "        )\n",
    "        model.fit(train_l1o, show_progress=False)\n",
    "        map_score = mean_average_precision_at_k(\n",
    "            model, train_l1o, test_l1o, k, show_progress=False\n",
    "        )\n",
    "        results.append({\n",
    "            \"factors\": factors,\n",
    "            \"regularization\": reg,\n",
    "            \"alpha\": alpha,\n",
    "            \"iterations\": iters,\n",
    "            \"bm25_K1\": k1,\n",
    "            \"bm25_B\": b,\n",
    "            f\"MAP@{k}\": map_score,\n",
    "        })\n",
    "    return pd.DataFrame(results)\n",
    "\n",
    "param_grid = {\n",
    "    \"factors\": [32, 64],\n",
    "    \"regularization\": [0.01, 0.05],\n",
    "    \"alpha\": [10.0, 20.0],\n",
    "    \"iterations\": [10, 20],\n",
    "    \"bm25_K1\": [50, 100],\n",
    "    \"bm25_B\": [0.6, 0.8],\n",
    "}\n",
    "\n",
    "results_df = grid_search_als(param_grid)\n"
   ]
  },
  {
   "cell_type": "markdown",
   "id": "9a53c842",
   "metadata": {},
   "source": [
    "Display hyperparameters."
   ]
  },
  {
   "cell_type": "code",
   "execution_count": 32,
   "id": "707b0c5f",
   "metadata": {},
   "outputs": [
    {
     "data": {
      "text/html": [
       "<div>\n",
       "<style scoped>\n",
       "    .dataframe tbody tr th:only-of-type {\n",
       "        vertical-align: middle;\n",
       "    }\n",
       "\n",
       "    .dataframe tbody tr th {\n",
       "        vertical-align: top;\n",
       "    }\n",
       "\n",
       "    .dataframe thead th {\n",
       "        text-align: right;\n",
       "    }\n",
       "</style>\n",
       "<table border=\"1\" class=\"dataframe\">\n",
       "  <thead>\n",
       "    <tr style=\"text-align: right;\">\n",
       "      <th></th>\n",
       "      <th>factors</th>\n",
       "      <th>regularization</th>\n",
       "      <th>alpha</th>\n",
       "      <th>iterations</th>\n",
       "      <th>bm25_K1</th>\n",
       "      <th>bm25_B</th>\n",
       "      <th>MAP@10</th>\n",
       "    </tr>\n",
       "  </thead>\n",
       "  <tbody>\n",
       "    <tr>\n",
       "      <th>42</th>\n",
       "      <td>64</td>\n",
       "      <td>0.01</td>\n",
       "      <td>20.0</td>\n",
       "      <td>10</td>\n",
       "      <td>100</td>\n",
       "      <td>0.6</td>\n",
       "      <td>0.178443</td>\n",
       "    </tr>\n",
       "    <tr>\n",
       "      <th>58</th>\n",
       "      <td>64</td>\n",
       "      <td>0.05</td>\n",
       "      <td>20.0</td>\n",
       "      <td>10</td>\n",
       "      <td>100</td>\n",
       "      <td>0.6</td>\n",
       "      <td>0.177243</td>\n",
       "    </tr>\n",
       "    <tr>\n",
       "      <th>41</th>\n",
       "      <td>64</td>\n",
       "      <td>0.01</td>\n",
       "      <td>20.0</td>\n",
       "      <td>10</td>\n",
       "      <td>50</td>\n",
       "      <td>0.8</td>\n",
       "      <td>0.176482</td>\n",
       "    </tr>\n",
       "    <tr>\n",
       "      <th>46</th>\n",
       "      <td>64</td>\n",
       "      <td>0.01</td>\n",
       "      <td>20.0</td>\n",
       "      <td>20</td>\n",
       "      <td>100</td>\n",
       "      <td>0.6</td>\n",
       "      <td>0.175062</td>\n",
       "    </tr>\n",
       "    <tr>\n",
       "      <th>40</th>\n",
       "      <td>64</td>\n",
       "      <td>0.01</td>\n",
       "      <td>20.0</td>\n",
       "      <td>10</td>\n",
       "      <td>50</td>\n",
       "      <td>0.6</td>\n",
       "      <td>0.172556</td>\n",
       "    </tr>\n",
       "    <tr>\n",
       "      <th>...</th>\n",
       "      <td>...</td>\n",
       "      <td>...</td>\n",
       "      <td>...</td>\n",
       "      <td>...</td>\n",
       "      <td>...</td>\n",
       "      <td>...</td>\n",
       "      <td>...</td>\n",
       "    </tr>\n",
       "    <tr>\n",
       "      <th>19</th>\n",
       "      <td>32</td>\n",
       "      <td>0.05</td>\n",
       "      <td>10.0</td>\n",
       "      <td>10</td>\n",
       "      <td>100</td>\n",
       "      <td>0.8</td>\n",
       "      <td>0.070334</td>\n",
       "    </tr>\n",
       "    <tr>\n",
       "      <th>17</th>\n",
       "      <td>32</td>\n",
       "      <td>0.05</td>\n",
       "      <td>10.0</td>\n",
       "      <td>10</td>\n",
       "      <td>50</td>\n",
       "      <td>0.8</td>\n",
       "      <td>0.066655</td>\n",
       "    </tr>\n",
       "    <tr>\n",
       "      <th>3</th>\n",
       "      <td>32</td>\n",
       "      <td>0.01</td>\n",
       "      <td>10.0</td>\n",
       "      <td>10</td>\n",
       "      <td>100</td>\n",
       "      <td>0.8</td>\n",
       "      <td>0.065458</td>\n",
       "    </tr>\n",
       "    <tr>\n",
       "      <th>21</th>\n",
       "      <td>32</td>\n",
       "      <td>0.05</td>\n",
       "      <td>10.0</td>\n",
       "      <td>20</td>\n",
       "      <td>50</td>\n",
       "      <td>0.8</td>\n",
       "      <td>0.065114</td>\n",
       "    </tr>\n",
       "    <tr>\n",
       "      <th>23</th>\n",
       "      <td>32</td>\n",
       "      <td>0.05</td>\n",
       "      <td>10.0</td>\n",
       "      <td>20</td>\n",
       "      <td>100</td>\n",
       "      <td>0.8</td>\n",
       "      <td>0.063943</td>\n",
       "    </tr>\n",
       "  </tbody>\n",
       "</table>\n",
       "<p>64 rows × 7 columns</p>\n",
       "</div>"
      ],
      "text/plain": [
       "    factors  regularization  alpha  iterations  bm25_K1  bm25_B    MAP@10\n",
       "42       64            0.01   20.0          10      100     0.6  0.178443\n",
       "58       64            0.05   20.0          10      100     0.6  0.177243\n",
       "41       64            0.01   20.0          10       50     0.8  0.176482\n",
       "46       64            0.01   20.0          20      100     0.6  0.175062\n",
       "40       64            0.01   20.0          10       50     0.6  0.172556\n",
       "..      ...             ...    ...         ...      ...     ...       ...\n",
       "19       32            0.05   10.0          10      100     0.8  0.070334\n",
       "17       32            0.05   10.0          10       50     0.8  0.066655\n",
       "3        32            0.01   10.0          10      100     0.8  0.065458\n",
       "21       32            0.05   10.0          20       50     0.8  0.065114\n",
       "23       32            0.05   10.0          20      100     0.8  0.063943\n",
       "\n",
       "[64 rows x 7 columns]"
      ]
     },
     "execution_count": 32,
     "metadata": {},
     "output_type": "execute_result"
    }
   ],
   "source": [
    "results_df = results_df.sort_values(\"MAP@10\", ascending=False)\n",
    "results_df\n"
   ]
  },
  {
   "cell_type": "markdown",
   "id": "9b673526",
   "metadata": {},
   "source": [
    "## 6. Train the Best Model"
   ]
  },
  {
   "cell_type": "markdown",
   "id": "e9388779",
   "metadata": {},
   "source": [
    "Train the final ALS model using the best hyperparameters obtained from the grid search."
   ]
  },
  {
   "cell_type": "code",
   "execution_count": 33,
   "id": "3924e34e",
   "metadata": {},
   "outputs": [
    {
     "data": {
      "application/vnd.jupyter.widget-view+json": {
       "model_id": "de0d0be33410426894039b293888cec0",
       "version_major": 2,
       "version_minor": 0
      },
      "text/plain": [
       "  0%|          | 0/10 [00:00<?, ?it/s]"
      ]
     },
     "metadata": {},
     "output_type": "display_data"
    }
   ],
   "source": [
    "top_model_row = results_df.sort_values(\"MAP@10\", ascending=False).iloc[0]\n",
    "\n",
    "best_factors = top_model_row[\"factors\"]\n",
    "best_regularization = top_model_row[\"regularization\"]\n",
    "best_alpha = top_model_row[\"alpha\"]\n",
    "best_iterations = top_model_row[\"iterations\"]\n",
    "best_bm25_K1 = top_model_row[\"bm25_K1\"]\n",
    "best_bm25_B = top_model_row[\"bm25_B\"]\n",
    "\n",
    "weighted_full_matrix = bm25_weight(user_item_matrix, K1=best_bm25_K1, B=best_bm25_B).T.tocsr()\n",
    "\n",
    "final_model = AlternatingLeastSquares(\n",
    "    factors=int(best_factors),\n",
    "    regularization=best_regularization,\n",
    "    alpha=best_alpha,\n",
    "    iterations=int(best_iterations),\n",
    "    random_state=RANDOM_SEED,\n",
    ")\n",
    "final_model.fit(weighted_full_matrix)\n"
   ]
  },
  {
   "cell_type": "markdown",
   "id": "d8d3ade3",
   "metadata": {},
   "source": [
    "Save the final model to a file using using `pickle` for production use."
   ]
  },
  {
   "cell_type": "code",
   "execution_count": 34,
   "id": "5581cc83",
   "metadata": {},
   "outputs": [],
   "source": [
    "model_dir = Path(\"model\")\n",
    "model_dir.mkdir(exist_ok=True)\n",
    "\n",
    "with open(model_dir / \"implicit_recommender_model.pkl\", \"wb\") as f:\n",
    "    pickle.dump(final_model, f)\n"
   ]
  }
 ],
 "metadata": {
  "kernelspec": {
   "display_name": ".venv (3.12.11)",
   "language": "python",
   "name": "python3"
  },
  "language_info": {
   "codemirror_mode": {
    "name": "ipython",
    "version": 3
   },
   "file_extension": ".py",
   "mimetype": "text/x-python",
   "name": "python",
   "nbconvert_exporter": "python",
   "pygments_lexer": "ipython3",
   "version": "3.12.11"
  }
 },
 "nbformat": 4,
 "nbformat_minor": 5
}
